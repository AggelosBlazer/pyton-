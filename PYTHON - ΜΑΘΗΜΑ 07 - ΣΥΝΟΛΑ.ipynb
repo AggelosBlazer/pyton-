{
 "cells": [
  {
   "cell_type": "code",
   "execution_count": 1,
   "id": "2f9d1f28-5083-4120-8e07-54534ac8d6e1",
   "metadata": {},
   "outputs": [
    {
     "data": {
      "text/html": [
       "\n",
       "<style>\n",
       "/* Set font size for code cells */\n",
       ".CodeMirror pre {\n",
       "    font-size: 22px;\n",
       "}\n",
       "\n",
       "/* Set font size for Markdown cells */\n",
       ".rendered_html {\n",
       "    font-size: 22px;\n",
       "}\n",
       "\n",
       "/* Set font size for raw cells */\n",
       ".text_cell_render {\n",
       "    font-size: 22px;\n",
       "}\n",
       "</style>\n"
      ],
      "text/plain": [
       "<IPython.core.display.HTML object>"
      ]
     },
     "metadata": {},
     "output_type": "display_data"
    }
   ],
   "source": [
    "from IPython.core.display import HTML\n",
    "\n",
    "custom_css = \"\"\"\n",
    "<style>\n",
    "/* Set font size for code cells */\n",
    ".CodeMirror pre {\n",
    "    font-size: 22px;\n",
    "}\n",
    "\n",
    "/* Set font size for Markdown cells */\n",
    ".rendered_html {\n",
    "    font-size: 22px;\n",
    "}\n",
    "\n",
    "/* Set font size for raw cells */\n",
    ".text_cell_render {\n",
    "    font-size: 22px;\n",
    "}\n",
    "</style>\n",
    "\"\"\"\n",
    "\n",
    "display(HTML(custom_css))\n"
   ]
  },
  {
   "cell_type": "markdown",
   "id": "305f8b06-16e0-40c2-a5fe-6cdac7cd8c36",
   "metadata": {},
   "source": [
    "ΠΕΡΙΕΧΟΜΕΝΑ:\n",
    "1. Σύνολα (sets)\n",
    "1. Βασική Λειτουργικότητα Συνόλων\n",
    "2. Πράξεις και Μετρικές σε Σύνολα\n",
    "3. Περιγραφικά Σύνολα\n",
    "2. Project: Τρίλιζα"
   ]
  },
  {
   "cell_type": "code",
   "execution_count": null,
   "id": "76783259-25a3-4d3c-95db-7f450d55d8a0",
   "metadata": {},
   "outputs": [],
   "source": [
    "\"\"\"\n",
    "Άσκηση 6.1: Τρίλιζα\n",
    "Αν χρειάζεστε υπενθύμιση για την τρίλιζα :\n",
    "• google: “Play tic tac toe”\n",
    "• Και οι δύο παίκτες θα ελέγχονται από τον χρήστη\n",
    "Θα αποθηκεύσουμε το πλάισιο σε έναν πίνακα 3x3 και τα βασικά\n",
    "βήματα σε μία επανάληψη είναι:\n",
    "• Εκτύπωση του πλαισίου\n",
    "• Επιλογή του επόμενου παίκτη\n",
    "• Ο παίκτης πληκτρολογεί το τετράγωνο που παίζει\n",
    "• Έλεγχος αν νίκησε ο παίκτης. Αν ναι, γίνεται εκτύπωση του\n",
    "πλαισίου, το πρόγραμμα τερματίζει και εμφανίζεται\n",
    "κατάλληλο μήνυμα.\n",
    "Αν γεμίσουν όλες οι θέσεις χωρίς να νίκησε κάποιος παίκτης, τότε\n",
    "γίνεται εκτύπωση του πλαισίου, το πρόγραμμα τερματίζει και\n",
    "εμφανίζεται κατάλληλο μήνυμα.\n",
    "\n",
    "Άσκηση 6.2: Εκτύπωση πλαισίου\n",
    "Ξεκινήστε με την εκτύπωση του πλαισίου (να είναι κομψή π.χ.: )\n",
    "+---+---+---+\n",
    "| Ο | Χ | |\n",
    "+---+---+---+\n",
    "| | | Χ |\n",
    "+---+---+---+\n",
    "| Ο | | |\n",
    "+---+---+---+\n",
    "\n",
    "Άσκηση 6.3: Επόμενος παίκτης\n",
    "Κατασκευάστε το μηχανισμό για την επιλογή του επόμενου\n",
    "παίκτη, καθώς και το μηχανισμό και την εκτύπωση αν έχουμε\n",
    "ισοπαλία (έχουμε φτάσει στον 9ο γύρο).\n",
    "\n",
    "Άσκηση 6.4: Είσοδος Χρήστη\n",
    "Κατασκευάστε το μέρος για την είσοδο του χρήστη.\n",
    "• Να γίνεται έλεγχος ότι η είσοδος του χρήστη είναι έγκυρη\n",
    "(στα όρια του πίνακα) και ότι το τετράγωνο είναι κενό.\n",
    "• Να γεμίζει το τετράγωνο με το σύμβολο του παίκτη.\n",
    "Άσκηση 6.5: Έλεγχος Νικητή\n",
    "Κατασκευάστε το μέρος για τον έλεγχο αν ο παίκτης νίκησε\n",
    "• Πρέπει να γίνεται έλεγχος σε κάθε γραμμή, στήλη και τις δύο\n",
    "διαγωνίους.\n",
    "• Αν έχουμε νικητή το πρόγραμμα να εκτυπώνει το πλαίσιο, να\n",
    "τυπώνει ποιος νίκησε και έπειτα να τερματίζει \"\"\""
   ]
  },
  {
   "cell_type": "code",
   "execution_count": 28,
   "id": "7c1fda5b-d590-4f30-9294-71f325d5bd64",
   "metadata": {},
   "outputs": [
    {
     "name": "stdout",
     "output_type": "stream",
     "text": [
      "  +---+---+---+\n",
      "2 |   |   |   |\n",
      "  +---+---+---+\n",
      "1 |   |   |   |\n",
      "  +---+---+---+\n",
      "0 |   |   |   |\n",
      "  +---+---+---+\n",
      "    0   1   2\n",
      "Player X plays! \n"
     ]
    },
    {
     "name": "stdin",
     "output_type": "stream",
     "text": [
      "Give row:  2\n",
      "Give column:  4\n"
     ]
    },
    {
     "name": "stdout",
     "output_type": "stream",
     "text": [
      "Column out of bounds (0-2). \n",
      "Player X plays! \n"
     ]
    },
    {
     "name": "stdin",
     "output_type": "stream",
     "text": [
      "Give row:  2\n",
      "Give column:  2\n"
     ]
    },
    {
     "name": "stdout",
     "output_type": "stream",
     "text": [
      "  +---+---+---+\n",
      "2 |   |   | X |\n",
      "  +---+---+---+\n",
      "1 |   |   |   |\n",
      "  +---+---+---+\n",
      "0 |   |   |   |\n",
      "  +---+---+---+\n",
      "    0   1   2\n",
      "Player O plays! \n"
     ]
    },
    {
     "name": "stdin",
     "output_type": "stream",
     "text": [
      "Give row:  2\n",
      "Give column:  2\n"
     ]
    },
    {
     "name": "stdout",
     "output_type": "stream",
     "text": [
      "Pick an empty box\n",
      "Player O plays! \n"
     ]
    },
    {
     "name": "stdin",
     "output_type": "stream",
     "text": [
      "Give row:  1\n",
      "Give column:  1\n"
     ]
    },
    {
     "name": "stdout",
     "output_type": "stream",
     "text": [
      "  +---+---+---+\n",
      "2 |   |   | X |\n",
      "  +---+---+---+\n",
      "1 |   | O |   |\n",
      "  +---+---+---+\n",
      "0 |   |   |   |\n",
      "  +---+---+---+\n",
      "    0   1   2\n",
      "Player X plays! \n"
     ]
    },
    {
     "name": "stdin",
     "output_type": "stream",
     "text": [
      "Give row:  2\n",
      "Give column:  0\n"
     ]
    },
    {
     "name": "stdout",
     "output_type": "stream",
     "text": [
      "  +---+---+---+\n",
      "2 | X |   | X |\n",
      "  +---+---+---+\n",
      "1 |   | O |   |\n",
      "  +---+---+---+\n",
      "0 |   |   |   |\n",
      "  +---+---+---+\n",
      "    0   1   2\n",
      "Player O plays! \n"
     ]
    },
    {
     "name": "stdin",
     "output_type": "stream",
     "text": [
      "Give row:  0\n",
      "Give column:  0\n"
     ]
    },
    {
     "name": "stdout",
     "output_type": "stream",
     "text": [
      "  +---+---+---+\n",
      "2 | X |   | X |\n",
      "  +---+---+---+\n",
      "1 |   | O |   |\n",
      "  +---+---+---+\n",
      "0 | O |   |   |\n",
      "  +---+---+---+\n",
      "    0   1   2\n",
      "Player X plays! \n"
     ]
    },
    {
     "name": "stdin",
     "output_type": "stream",
     "text": [
      "Give row:  2\n",
      "Give column:  1\n"
     ]
    },
    {
     "name": "stdout",
     "output_type": "stream",
     "text": [
      "+---+---+---+\n",
      "| X | X | X |\n",
      "+---+---+---+\n",
      "|   | O |   |\n",
      "+---+---+---+\n",
      "| O |   |   |\n",
      "+---+---+---+\n",
      "Player Xwon! \n"
     ]
    }
   ],
   "source": [
    "\n",
    "board = [\n",
    "    [\" \", \" \", \" \"],\n",
    "    [\" \", \" \", \" \"],\n",
    "    [\" \", \" \", \" \"]\n",
    "]\n",
    "\n",
    "player = \"O\"\n",
    "\n",
    "for _ in range(9):\n",
    "    # print board\n",
    "    print(\"  +---+---+---+\")\n",
    "    print(str(2) + \" | \" + board[2][0] + \" | \" + board[2][1] + \" | \" + board[2][2] + \" |\")\n",
    "    print(\"  +---+---+---+\")\n",
    "    print(str(1) + \" | \" + board[1][0] + \" | \" + board[1][1] + \" | \" + board[1][2] + \" |\")\n",
    "    print(\"  +---+---+---+\")\n",
    "    print(str(0) + \" | \" + board[0][0] + \" | \" + board[0][1] + \" | \" + board[0][2] + \" |\")\n",
    "    print(\"  +---+---+---+\")\n",
    "    print(\"    0   1   2\")\n",
    "\n",
    "    # choose next player\n",
    "    if player == \"X\":\n",
    "        player = \"O\"\n",
    "    else:\n",
    "        player = \"X\"\n",
    "\n",
    "    # user input\n",
    "    while True:\n",
    "        print(\"Player \" + player + \" plays! \")\n",
    "        row = int(input(\"Give row: \"))\n",
    "        col = int(input(\"Give column: \"))\n",
    "        if row < 0 or row > 2:\n",
    "            print(\"Row out of bounds (0-2). \")\n",
    "            continue\n",
    "        elif col < 0 or col > 2:\n",
    "            print(\"Column out of bounds (0-2). \")\n",
    "            continue\n",
    "        elif board[row][col]!=\" \":\n",
    "            print(\"Pick an empty box\")\n",
    "            continue\n",
    "        else:\n",
    "            board[row][col]=player\n",
    "            break\n",
    "\n",
    "    # check winner\n",
    "    winner = False\n",
    "    if (board[0][0] == board[0][1] and board[0][1] == board[0][2]) and board[0][0] != \" \":\n",
    "        winner = player\n",
    "    elif (board[1][0] == board[1][1] and board[1][1] == board[1][2]) and board[1][0] != \" \":\n",
    "        winner = player\n",
    "    elif (board[2][0] == board[2][1] and board[2][1] == board[2][2]) and board[2][0] != \" \":\n",
    "        winner = player\n",
    "    elif (board[0][0] == board[1][0] and board[1][0] == board[2][0]) and board[0][0] != \" \":\n",
    "        winner = player\n",
    "    elif (board[0][1] == board[1][1] and board[1][1] == board[2][1]) and board[0][1] != \" \":\n",
    "        winner = player\n",
    "    elif (board[0][2] == board[1][2] and board[1][2] == board[2][2]) and board[0][2] != \" \":\n",
    "        winner = player\n",
    "    elif (board[0][0] == board[1][1] and board[1][1] == board[2][2]) and board[0][0] != \" \":\n",
    "        winner = player\n",
    "    elif (board[2][0] == board[1][1] and board[1][1] == board[0][2]) and board[2][0] != \" \":\n",
    "        winner = player\n",
    "\n",
    "    if winner:\n",
    "        print(\"+---+---+---+\")\n",
    "        print(\"| \" + board[2][0] + \" | \" + board[2][1] + \" | \" + board[2][2] + \" |\")\n",
    "        print(\"+---+---+---+\")\n",
    "        print(\"| \" + board[1][0] + \" | \" + board[1][1] + \" | \" + board[1][2] + \" |\")\n",
    "        print(\"+---+---+---+\")\n",
    "        print(\"| \" + board[0][0] + \" | \" + board[0][1] + \" | \" + board[0][2] + \" |\")\n",
    "        print(\"+---+---+---+\")\n",
    "        print(\"Player \" + player + \"won! \")\n",
    "        break\n",
    "\n",
    "else:\n",
    "    print(\"+---+---+---+\")\n",
    "    print(\"| \" + board[2][0] + \" | \" + board[2][1] + \" | \" + board[2][2] + \" |\")\n",
    "    print(\"+---+---+---+\")\n",
    "    print(\"| \" + board[1][0] + \" | \" + board[1][1] + \" | \" + board[1][2] + \" |\")\n",
    "    print(\"+---+---+---+\")\n",
    "    print(\"| \" + board[0][0] + \" | \" + board[0][1] + \" | \" + board[0][2] + \" |\")\n",
    "    print(\"+---+---+---+\")\n",
    "    print(\"Isopalia! \")\n"
   ]
  },
  {
   "cell_type": "code",
   "execution_count": null,
   "id": "8055d1f0-ae1f-4ec6-bd5d-effe6fb169f9",
   "metadata": {},
   "outputs": [],
   "source": []
  }
 ],
 "metadata": {
  "kernelspec": {
   "display_name": "Python 3 (ipykernel)",
   "language": "python",
   "name": "python3"
  },
  "language_info": {
   "codemirror_mode": {
    "name": "ipython",
    "version": 3
   },
   "file_extension": ".py",
   "mimetype": "text/x-python",
   "name": "python",
   "nbconvert_exporter": "python",
   "pygments_lexer": "ipython3",
   "version": "3.11.7"
  }
 },
 "nbformat": 4,
 "nbformat_minor": 5
}
