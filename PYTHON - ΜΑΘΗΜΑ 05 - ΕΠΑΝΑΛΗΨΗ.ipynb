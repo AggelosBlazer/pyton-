{
 "cells": [
  {
   "cell_type": "code",
   "execution_count": 2,
   "id": "1ca9592e-f9a6-45b5-9bc3-e5b9b81c4c60",
   "metadata": {},
   "outputs": [
    {
     "data": {
      "text/html": [
       "\n",
       "<style>\n",
       "/* Set font size for code cells */\n",
       ".CodeMirror pre {\n",
       "    font-size: 32px;\n",
       "}\n",
       "\n",
       "/* Set font size for Markdown cells */\n",
       ".rendered_html {\n",
       "    font-size: 32px;\n",
       "}\n",
       "\n",
       "/* Set font size for raw cells */\n",
       ".text_cell_render {\n",
       "    font-size: 32px;\n",
       "}\n",
       "</style>\n"
      ],
      "text/plain": [
       "<IPython.core.display.HTML object>"
      ]
     },
     "metadata": {},
     "output_type": "display_data"
    }
   ],
   "source": [
    "from IPython.core.display import HTML\n",
    "\n",
    "custom_css = \"\"\"\n",
    "<style>\n",
    "/* Set font size for code cells */\n",
    ".CodeMirror pre {\n",
    "    font-size: 32px;\n",
    "}\n",
    "\n",
    "/* Set font size for Markdown cells */\n",
    ".rendered_html {\n",
    "    font-size: 32px;\n",
    "}\n",
    "\n",
    "/* Set font size for raw cells */\n",
    ".text_cell_render {\n",
    "    font-size: 32px;\n",
    "}\n",
    "</style>\n",
    "\"\"\"\n",
    "\n",
    "display(HTML(custom_css))\n"
   ]
  },
  {
   "cell_type": "code",
   "execution_count": 3,
   "id": "053c5d87-09fc-42c9-871f-dc82b4041bee",
   "metadata": {},
   "outputs": [
    {
     "data": {
      "text/plain": [
       "'\\nΠΕΡΙΕΧΟΜΕΝΑ:\\n1. Δομή Επανάληψης While\\n2. Δομή Επανάληψης For\\n3. Break και Continue\\n4. Εμφωλιασμένοι Βρόχοι \\n\\nΜία εντολή επανάληψης αναφέρεται συχνά και σαν βρόχος (ή loop)\\nΟι εντολές μέσα στο βρόχο αναφέρονται και σαν σώμα του βρόχου και αποτελούν ένα μπλοκ κώδικα.\\n'"
      ]
     },
     "execution_count": 3,
     "metadata": {},
     "output_type": "execute_result"
    }
   ],
   "source": [
    "\"\"\"\n",
    "ΠΕΡΙΕΧΟΜΕΝΑ:\n",
    "1. Δομή Επανάληψης While\n",
    "2. Δομή Επανάληψης For\n",
    "3. Break και Continue\n",
    "4. Εμφωλιασμένοι Βρόχοι \n",
    "\n",
    "Μία εντολή επανάληψης αναφέρεται συχνά και σαν βρόχος (ή loop)\n",
    "Οι εντολές μέσα στο βρόχο αναφέρονται και σαν σώμα του βρόχου και αποτελούν ένα μπλοκ κώδικα.\n",
    "\"\"\""
   ]
  },
  {
   "cell_type": "code",
   "execution_count": 4,
   "id": "18f6dfb9-14f7-4701-9da1-d1f036303658",
   "metadata": {},
   "outputs": [
    {
     "name": "stdout",
     "output_type": "stream",
     "text": [
      "η κάθε δεύτερη πόλη είναι: \n",
      "\n",
      "\n",
      "rio\n",
      "sahel\n",
      "lulea\n",
      "\n",
      "\n",
      "mykonos\n",
      "\n",
      "\n"
     ]
    }
   ],
   "source": [
    "\"\"\" Συγκεντρωτική άσκηση \n",
    "\n",
    "Όρισε μια λίστα με 5 πόλεων και φτιάξε ένα πρόγραμμα που Θα τυπώνει τις πόλεις των άρτιων θέσεων της λίστας. \"\"\"\n",
    "\n",
    "poleis = [\"rio\", \"mykonos\", \"sahel\", \"nairobi\", \"lulea\",]\n",
    "\n",
    "print(\"η κάθε δεύτερη πόλη είναι: \")\n",
    "\n",
    "print(\"\\n\")\n",
    "\n",
    "for a in range(0, len(poleis), 2):\n",
    "    print(poleis[a])\n",
    "    \n",
    "print(\"\\n\")\n",
    "\n",
    "print(poleis[1])\n",
    "\n",
    "print(\"\\n\")"
   ]
  },
  {
   "cell_type": "code",
   "execution_count": 40,
   "id": "a525fbe1-87ac-4dc2-9349-4b5e53efa6ee",
   "metadata": {},
   "outputs": [
    {
     "name": "stdin",
     "output_type": "stream",
     "text": [
      "Give N:  2\n",
      "Give N(3-20):  5\n",
      "Give 1th number:  1\n",
      "Give 2th number:  8\n",
      "Give 3th number:  5\n",
      "Give 4th number:  3\n",
      "Give 5th number:  6\n"
     ]
    },
    {
     "name": "stdout",
     "output_type": "stream",
     "text": [
      "[1, 3, 5, 6, 8]\n"
     ]
    }
   ],
   "source": [
    "\"\"\" Συγκεντρωτική: Παραμετρική γέμιση λιστών - 2 for, 1 κλίμακα\n",
    "\n",
    "Κατασκεύασε πρόγραμμα το οποίο Θα ζητάει να δηλώσεις το μέγεθος της λίστας που θα φτιάξεις (μεταξύ 3 και 20), \n",
    "τα στοιχεία που θα έχει και Θα την τυπώνει με αύξουσα σειρά. \"\"\"\n",
    "\n",
    "N = int(input(\"Give N: \"))\n",
    "while N<3 or N>20:\n",
    "    N = int(input(\"Give N(3-20): \"))\n",
    "\n",
    "numbers = []\n",
    "for cnt in range(0,N):\n",
    "    numbers.append(int(input(\"Give \" + str(cnt+1) + \"th number: \")))\n",
    "\n",
    "numbers.sort()\n",
    "\n",
    "print(numbers)"
   ]
  },
  {
   "cell_type": "code",
   "execution_count": 44,
   "id": "03616c26-327c-4010-977d-9e2fa8a96e3f",
   "metadata": {},
   "outputs": [
    {
     "name": "stdout",
     "output_type": "stream",
     "text": [
      "* \n",
      "* * \n",
      "* * * \n",
      "* * * * \n",
      "* * * * * \n",
      "\n",
      "\n",
      "\n",
      "χωρίς end\n",
      "\n",
      "\n",
      "\n",
      "*\n",
      "\n",
      "*\n",
      "*\n",
      "\n",
      "*\n",
      "*\n",
      "*\n",
      "\n",
      "*\n",
      "*\n",
      "*\n",
      "*\n",
      "\n",
      "*\n",
      "*\n",
      "*\n",
      "*\n",
      "*\n",
      "\n"
     ]
    }
   ],
   "source": [
    "\"\"\" Συγκεντρωτική: Κλίμακα: 2 for, 1 κλίμακα \"\"\"\n",
    "\"\"\" τα i και j  \"\"\"\n",
    "\n",
    "for i in range(1,6):\n",
    "    for j in range(1,i+1):\n",
    "        print(\"*\", end=\" \")\n",
    "    print(\"\")\n",
    "\n",
    "print(\"\\n\\n\")\n",
    "\n",
    "print(\"χωρίς end\")\n",
    "\n",
    "print(\"\\n\\n\")\n",
    "\n",
    "for i in range(1,6):\n",
    "    for j in range(1,i+1):\n",
    "        print(\"*\")\n",
    "    print(\"\")\n"
   ]
  },
  {
   "cell_type": "code",
   "execution_count": 2,
   "id": "51ad60e8-b89c-45a9-8b0d-757b65ebeff5",
   "metadata": {},
   "outputs": [
    {
     "name": "stdout",
     "output_type": "stream",
     "text": [
      "[3 4 5]\n",
      "[4 3 5]\n",
      "[5 12 13]\n",
      "[6 8 10]\n",
      "[8 6 10]\n",
      "[8 15 17]\n",
      "[9 12 15]\n",
      "[12 5 13]\n",
      "[12 9 15]\n",
      "[12 16 20]\n",
      "[15 8 17]\n",
      "[16 12 20]\n"
     ]
    }
   ],
   "source": [
    "\"\"\" Συγκεντρωτική: Τρία for δύο κλίμακες \"\"\"\n",
    "\"\"\"\n",
    "        for\n",
    "            for\n",
    "                for\n",
    "\"\"\"\n",
    "\"\"\" Κατασκευάστε πρόγραμμα το οποίο:\n",
    "• Θα τυπώνει όλες τις τριάδες (α,β,γ) με την ιδιότητα ότι:\n",
    "\u0001\u0002 \u0003 \u0004\u0002 \u0005 \u0006\u0002\n",
    "• (για ακέραιους: 0 \b \u0001, \u0004, \u0006 \b 20) \"\"\"\n",
    "\n",
    "# This program prints all the triplets (a, b, c) such that a^2 + b^2 = c^2\n",
    "# for integers a, b, and c in the range from 1 to 20.\n",
    "\n",
    "for a in range(1, 21):\n",
    "    for b in range(1, 21):\n",
    "        for c in range(1, 21):\n",
    "            if a**2 + b**2 == c**2:\n",
    "                print(f\"[{a} {b} {c}]\")\n"
   ]
  },
  {
   "cell_type": "code",
   "execution_count": 3,
   "id": "3f800a47-1074-40bb-915a-46020f7b0f5f",
   "metadata": {},
   "outputs": [
    {
     "name": "stdin",
     "output_type": "stream",
     "text": [
      "Δώσε τον ύψος του τργώνου (σε αριθμό γραμμών) που θέλεις να κατασκευάσει ο κώδικας:  5\n"
     ]
    },
    {
     "name": "stdout",
     "output_type": "stream",
     "text": [
      "        * \n",
      "      * * * \n",
      "    * * * * * \n",
      "  * * * * * * * \n",
      "* * * * * * * * * \n"
     ]
    }
   ],
   "source": [
    "\"\"\" Συγκεντρωτική: Τρία for 1 κλίμακα \"\"\"\n",
    "\n",
    "\"\"\"\n",
    "        for\n",
    "            for\n",
    "            for\n",
    "\"\"\"\n",
    "\"\"\" Κατασκευάστε ένα πρόγραμμα το οποίο:\n",
    "• Θα αποθηκεύει το πλήθος των γραμμών σε μία μεταβλητή με\n",
    "όνομα Ν.\n",
    "• Θα τύπώνει ένα ισοσκελές τρίγωνο με Ν γραμμές.\n",
    "• Π.χ. για Ν=5: \"\"\"\n",
    "\n",
    "N = int(input(\"Δώσε τον ύψος του τργώνου (σε αριθμό γραμμών) που θέλεις να κατασκευάσει ο κώδικας: \"))\n",
    "\n",
    "for i in range(0, N):\n",
    "    for j in range(0, N-i-1):\n",
    "        print(\" \", end=\" \")\n",
    "    for j in range(0, 2*i+1):\n",
    "        print(\"*\", end=\" \")\n",
    "    print(\"\")"
   ]
  },
  {
   "cell_type": "code",
   "execution_count": null,
   "id": "6bd843f4-f689-4836-b50b-39a651731278",
   "metadata": {},
   "outputs": [],
   "source": []
  }
 ],
 "metadata": {
  "kernelspec": {
   "display_name": "Python 3 (ipykernel)",
   "language": "python",
   "name": "python3"
  },
  "language_info": {
   "codemirror_mode": {
    "name": "ipython",
    "version": 3
   },
   "file_extension": ".py",
   "mimetype": "text/x-python",
   "name": "python",
   "nbconvert_exporter": "python",
   "pygments_lexer": "ipython3",
   "version": "3.11.7"
  }
 },
 "nbformat": 4,
 "nbformat_minor": 5
}
