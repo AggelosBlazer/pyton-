{
 "cells": [
  {
   "cell_type": "code",
   "execution_count": 1,
   "id": "a7341e52-63e9-4b62-9679-3d789e5e0503",
   "metadata": {},
   "outputs": [
    {
     "data": {
      "text/html": [
       "\n",
       "<style>\n",
       "/* Set font size for code cells */\n",
       ".CodeMirror pre {\n",
       "    font-size: 22px;\n",
       "}\n",
       "\n",
       "/* Set font size for Markdown cells */\n",
       ".rendered_html {\n",
       "    font-size: 22px;\n",
       "}\n",
       "\n",
       "/* Set font size for raw cells */\n",
       ".text_cell_render {\n",
       "    font-size: 22px;\n",
       "}\n",
       "</style>\n"
      ],
      "text/plain": [
       "<IPython.core.display.HTML object>"
      ]
     },
     "metadata": {},
     "output_type": "display_data"
    }
   ],
   "source": [
    "from IPython.core.display import HTML\n",
    "\n",
    "custom_css = \"\"\"\n",
    "<style>\n",
    "/* Set font size for code cells */\n",
    ".CodeMirror pre {\n",
    "    font-size: 22px;\n",
    "}\n",
    "\n",
    "/* Set font size for Markdown cells */\n",
    ".rendered_html {\n",
    "    font-size: 22px;\n",
    "}\n",
    "\n",
    "/* Set font size for raw cells */\n",
    ".text_cell_render {\n",
    "    font-size: 22px;\n",
    "}\n",
    "</style>\n",
    "\"\"\"\n",
    "\n",
    "display(HTML(custom_css))\n"
   ]
  },
  {
   "cell_type": "code",
   "execution_count": 8,
   "id": "20075270-08dd-460a-b904-57d13e8aa1f9",
   "metadata": {},
   "outputs": [
    {
     "name": "stdout",
     "output_type": "stream",
     "text": [
      "(2, 3, 5, 7, 11, 13, 17, 19, 23, 29, 31, 37, 41, 43, 47, 53, 59, 61, 67, 71, 73, 79, 83, 89, 97)\n"
     ]
    }
   ],
   "source": [
    "\"\"\" Συγκεντρωτική άσκηση: \n",
    "\n",
    "Πρόγραμμα το οποίο Θα τυπώνει ένα tuple με τους πρώτους αριθμούς στο [2, 100] \"\"\"\n",
    "\n",
    "primes_list = []\n",
    "\n",
    "for N in range(2, 100+1):\n",
    "    for i in range(2, N):        # Ο βρόχος αυτός ξεκινά από το 2 και φτάνει μέχρι το N-1\n",
    "        if N % i == 0:\n",
    "            break\n",
    "    else:\n",
    "        primes_list.append(N)\n",
    "\n",
    "\n",
    "primes = tuple(primes_list)\n",
    "print(primes)"
   ]
  },
  {
   "cell_type": "code",
   "execution_count": null,
   "id": "261f322f-bfc6-42ba-a4e2-aa255456c8a3",
   "metadata": {},
   "outputs": [],
   "source": [
    "\"\"\" Συγκεντρωτική άσκηση: \n",
    "\n",
    "Κατασκευάστε με μονοπροτασιακή περιγραφή (όχι πολλαπλοπροτασιακή), μία λίστα που περιέχει τους άρτιους, πολλαπλάσια του 3. \"\"\"\n",
    "\n",
    "my_list = [number for number in range(100) if number%2 == 0 and number%3 == 0]\n",
    "print(my_list)"
   ]
  },
  {
   "cell_type": "code",
   "execution_count": 16,
   "id": "f5cb2a13-31dd-445c-b3d4-2bf63c3d38fe",
   "metadata": {},
   "outputs": [
    {
     "name": "stdin",
     "output_type": "stream",
     "text": [
      "Give number of rows:  3\n",
      "Give number of columns:  3\n",
      "Give 0,0 element:  1\n",
      "Give 0,1 element:  1\n",
      "Give 0,2 element:  1\n",
      "Give 1,0 element:  1\n",
      "Give 1,1 element:  1\n",
      "Give 1,2 element:  1\n",
      "Give 2,0 element:  1\n",
      "Give 2,1 element:  1\n",
      "Give 2,2 element:  1\n"
     ]
    },
    {
     "name": "stdout",
     "output_type": "stream",
     "text": [
      "[[1, 1, 1], [1, 1, 1], [1, 1, 1]]\n",
      "\n",
      "\n",
      "[[1, 1, 1], [1, 0, 1], [1, 1, 1]]\n"
     ]
    }
   ],
   "source": [
    "\"\"\" Συγκεντρωτική άσκηση:\n",
    "\n",
    "# διδιάστατη λίστα = πίνακας 2 διαστάσεων = λίστα που περιέχει άλλες λίστες \"\"\"\n",
    "\n",
    "array = []\n",
    "rows = int(input(\"Give number of rows: \"))\n",
    "cols = int(input(\"Give number of columns: \"))\n",
    "\n",
    "for i in range(rows):\n",
    "    array.append([])\n",
    "    for j in range(cols):\n",
    "        elem = int(input(\"Give \" + str(i) + \",\" + str(j) + \" element: \"))\n",
    "        array[i].append(elem)\n",
    "\n",
    "print(array)\n",
    "\n",
    "print(\"\\n\")\n",
    "\n",
    "# αλλαγή του στοιχείου 1,1:\n",
    "\n",
    "array[1][1] = 0\n",
    "\n",
    "print(array)\n",
    "\n",
    "####################  Αυτός εκτυπώνει τον πίνακα χωρίς τα brackets. Πώς το κάνει αυτό ?  (Παράδειγμα 6)"
   ]
  },
  {
   "cell_type": "code",
   "execution_count": 17,
   "id": "4275e538-7d36-4c09-8dd4-cbd3f6cb2db7",
   "metadata": {},
   "outputs": [
    {
     "name": "stdout",
     "output_type": "stream",
     "text": [
      "0 0 0 0 \n",
      "1 2 3 4 \n",
      "5 6 7 8 \n",
      "9 0 1 2 \n",
      "\n",
      "0 0 0 0 1 \n",
      "1 2 3 4 1 \n",
      "5 6 7 8 1 \n",
      "9 0 1 2 1 \n"
     ]
    }
   ],
   "source": [
    "\"\"\" Συγκεντρωτική άσκηση: Επεξεργασία πίνακα\n",
    "\n",
    "Αρχικοποιήστε έναν τυχαίο 3x4 πίνακα (εντός κώδικα) και τυπώστε κάθε αλλαγή του:\n",
    "\n",
    "• Πρόσθεση γραμμής μηδενικών στην αρχή\n",
    "• Πρόσθεση μίας στήλης με άσσους στο τέλος\n",
    "\n",
    "array = [\n",
    "    [1, 2, 3, 4],\n",
    "    [5, 6, 7, 8],\n",
    "    [9, 0, 1, 2]\n",
    "]\n",
    "\n",
    "array.insert(0, [0, 0, 0, 0])\n",
    "\n",
    "for row in array:\n",
    "    for elem in row:\n",
    "        print(elem, end=\" \")\n",
    "    print(\"\")\n",
    "\n",
    "for row in array:\n",
    "    row.append(1)\n",
    "\n",
    "print(\"\")\n",
    "for row in array:\n",
    "    for elem in row:\n",
    "        print(elem, end=\" \")\n",
    "    print(\"\")"
   ]
  },
  {
   "cell_type": "code",
   "execution_count": null,
   "id": "86eed344-0151-401e-b593-bb881b9caf3a",
   "metadata": {},
   "outputs": [],
   "source": []
  }
 ],
 "metadata": {
  "kernelspec": {
   "display_name": "Python 3 (ipykernel)",
   "language": "python",
   "name": "python3"
  },
  "language_info": {
   "codemirror_mode": {
    "name": "ipython",
    "version": 3
   },
   "file_extension": ".py",
   "mimetype": "text/x-python",
   "name": "python",
   "nbconvert_exporter": "python",
   "pygments_lexer": "ipython3",
   "version": "3.11.7"
  }
 },
 "nbformat": 4,
 "nbformat_minor": 5
}
