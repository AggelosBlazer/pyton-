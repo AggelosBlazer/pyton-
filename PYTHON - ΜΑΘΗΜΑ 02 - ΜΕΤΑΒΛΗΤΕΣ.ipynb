{
 "cells": [
  {
   "cell_type": "code",
   "execution_count": 1,
   "id": "4cdcbba4-697a-41ac-95a0-2dff0c448f62",
   "metadata": {},
   "outputs": [
    {
     "data": {
      "text/html": [
       "\n",
       "<style>\n",
       "/* Set font size for code cells */\n",
       ".CodeMirror pre {\n",
       "    font-size: 22px;\n",
       "}\n",
       "\n",
       "/* Set font size for Markdown cells */\n",
       ".rendered_html {\n",
       "    font-size: 22px;\n",
       "}\n",
       "\n",
       "/* Set font size for raw cells */\n",
       ".text_cell_render {\n",
       "    font-size: 22px;\n",
       "}\n",
       "</style>\n"
      ],
      "text/plain": [
       "<IPython.core.display.HTML object>"
      ]
     },
     "metadata": {},
     "output_type": "display_data"
    }
   ],
   "source": [
    "from IPython.core.display import HTML\n",
    "\n",
    "custom_css = \"\"\"\n",
    "<style>\n",
    "/* Set font size for code cells */\n",
    ".CodeMirror pre {\n",
    "    font-size: 22px;\n",
    "}\n",
    "\n",
    "/* Set font size for Markdown cells */\n",
    ".rendered_html {\n",
    "    font-size: 22px;\n",
    "}\n",
    "\n",
    "/* Set font size for raw cells */\n",
    ".text_cell_render {\n",
    "    font-size: 22px;\n",
    "}\n",
    "</style>\n",
    "\"\"\"\n",
    "\n",
    "display(HTML(custom_css))\n"
   ]
  },
  {
   "cell_type": "code",
   "execution_count": 3,
   "id": "60cea9da-b37e-4a47-8cc9-096ba9ccc0a4",
   "metadata": {},
   "outputs": [
    {
     "name": "stdout",
     "output_type": "stream",
     "text": [
      "\n",
      "\n",
      "Παρακάτω θα σου ζητηθεί να δώσεις τέσσερις εισαγωγές' Έναν ακέραιο, έναν δεκαδικό, μία συμβολοσειρά και μία λογική μεταβλητή. \n",
      "Έπειτα το πρόγραμμα θα δώσει αποτελέσματα των μεταξύ των πράξεων.\n",
      "\n",
      "\n"
     ]
    },
    {
     "name": "stdin",
     "output_type": "stream",
     "text": [
      "int:  9\n",
      "float:  0.2\n",
      "string:  ...\n",
      "bool:  true\n"
     ]
    },
    {
     "name": "stdout",
     "output_type": "stream",
     "text": [
      "\n",
      "\n",
      "int        +  float   =  90.2\n",
      "str(int)   +  string  =  9...\n",
      "int        +  boolinput    =  9true\n",
      "str(float) +  string  =  0.2...\n",
      "float      +  boolinput    =  0.2true\n",
      "str(boolinput)  +  string  =  true...\n"
     ]
    },
    {
     "ename": "TypeError",
     "evalue": "can only concatenate str (not \"bool\") to str",
     "output_type": "error",
     "traceback": [
      "\u001b[1;31m---------------------------------------------------------------------------\u001b[0m",
      "\u001b[1;31mTypeError\u001b[0m                                 Traceback (most recent call last)",
      "Cell \u001b[1;32mIn[3], line 31\u001b[0m\n\u001b[0;32m     28\u001b[0m \u001b[38;5;28mprint\u001b[39m(\u001b[38;5;124m\"\u001b[39m\u001b[38;5;124mfloat      +  boolinput    = \u001b[39m\u001b[38;5;124m\"\u001b[39m, \u001b[38;5;28mfloat\u001b[39m \u001b[38;5;241m+\u001b[39m boolinput)\n\u001b[0;32m     29\u001b[0m \u001b[38;5;28mprint\u001b[39m(\u001b[38;5;124m\"\u001b[39m\u001b[38;5;124mstr(boolinput)  +  string  = \u001b[39m\u001b[38;5;124m\"\u001b[39m, \u001b[38;5;28mstr\u001b[39m(boolinput) \u001b[38;5;241m+\u001b[39m string)\n\u001b[1;32m---> 31\u001b[0m \u001b[38;5;28mprint\u001b[39m(\u001b[38;5;124m\"\u001b[39m\u001b[38;5;124mint        +  bool    = \u001b[39m\u001b[38;5;124m\"\u001b[39m, \u001b[38;5;28mint\u001b[39m \u001b[38;5;241m+\u001b[39m \u001b[38;5;28mbool\u001b[39m)            \u001b[38;5;66;03m### Περίεργο\u001b[39;00m\n\u001b[0;32m     33\u001b[0m \u001b[38;5;28mprint\u001b[39m(\u001b[38;5;124m\"\u001b[39m\u001b[38;5;130;01m\\n\u001b[39;00m\u001b[38;5;124m\"\u001b[39m)\n\u001b[0;32m     35\u001b[0m \u001b[38;5;28mprint\u001b[39m(\u001b[38;5;28mtype\u001b[39m(string))\n",
      "\u001b[1;31mTypeError\u001b[0m: can only concatenate str (not \"bool\") to str"
     ]
    }
   ],
   "source": [
    "# Συνκεφαλαιωτική άσκηση: Π΄ραξεις μεταξύ των τύπων των μεταβλητών\n",
    "\n",
    "print(\"\\n\")\n",
    "\n",
    "print(\"Παρακάτω θα σου ζητηθεί να δώσεις τέσσερις εισαγωγές' Έναν ακέραιο, έναν δεκαδικό, μία συμβολοσειρά και μία λογική μεταβλητή. \\nΈπειτα το πρόγραμμα θα δώσει αποτελέσματα των μεταξύ των πράξεων.\")\n",
    "\n",
    "print(\"\\n\")\n",
    "\n",
    "int, float, string, boolinput, = input(\"int: \"), input(\"float: \"), \n",
    "                                    input(\"string: \"), input(\"bool: \")\n",
    "\n",
    "bool = True\n",
    "\n",
    "print(\"\\n\")\n",
    "\n",
    "#int = input(\"int: \")\n",
    "#float = input(\"float: \")\n",
    "#string = input(\"string: \")\n",
    "#bool = input(\"bool: \")\n",
    "\n",
    "print(\"int        +  float   = \", int + float)\n",
    "# print(int       +  string) --> δίνει TypeError                                 \n",
    "print(\"str(int)   +  string  = \", str(int) + string)\n",
    "\n",
    "print(\"int        +  boolinput    = \", int + boolinput)            ### Περίεργο\n",
    "\n",
    "# print(\"float)   +  string  = \", float + string) --> δίνει TypeError\n",
    "print(\"str(float) +  string  = \", str(float) + string)\n",
    "print(\"float      +  boolinput    = \", float + boolinput)\n",
    "print(\"str(boolinput)  +  string  = \", str(boolinput) + string)\n",
    "\n",
    "print(\"int        +  bool    = \", int + bool)            ### Περίεργο\n",
    "\n",
    "print(\"\\n\")\n",
    "\n",
    "print(type(string))"
   ]
  },
  {
   "cell_type": "code",
   "execution_count": null,
   "id": "76bb2b4f-23a6-4536-a0e0-0388ac8f364b",
   "metadata": {},
   "outputs": [],
   "source": []
  }
 ],
 "metadata": {
  "kernelspec": {
   "display_name": "Python 3 (ipykernel)",
   "language": "python",
   "name": "python3"
  },
  "language_info": {
   "codemirror_mode": {
    "name": "ipython",
    "version": 3
   },
   "file_extension": ".py",
   "mimetype": "text/x-python",
   "name": "python",
   "nbconvert_exporter": "python",
   "pygments_lexer": "ipython3",
   "version": "3.11.7"
  }
 },
 "nbformat": 4,
 "nbformat_minor": 5
}
