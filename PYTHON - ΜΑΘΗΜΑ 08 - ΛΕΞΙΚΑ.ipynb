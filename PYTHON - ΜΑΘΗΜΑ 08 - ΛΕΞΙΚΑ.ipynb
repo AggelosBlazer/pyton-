{
 "cells": [
  {
   "cell_type": "code",
   "execution_count": 1,
   "id": "bdb05cb6-d9e4-4750-b601-3b3836ea498f",
   "metadata": {},
   "outputs": [
    {
     "data": {
      "text/html": [
       "\n",
       "<style>\n",
       "/* Set font size for code cells */\n",
       ".CodeMirror pre {\n",
       "    font-size: 22px;\n",
       "}\n",
       "\n",
       "/* Set font size for Markdown cells */\n",
       ".rendered_html {\n",
       "    font-size: 22px;\n",
       "}\n",
       "\n",
       "/* Set font size for raw cells */\n",
       ".text_cell_render {\n",
       "    font-size: 22px;\n",
       "}\n",
       "</style>\n"
      ],
      "text/plain": [
       "<IPython.core.display.HTML object>"
      ]
     },
     "metadata": {},
     "output_type": "display_data"
    }
   ],
   "source": [
    "from IPython.core.display import HTML\n",
    "\n",
    "custom_css = \"\"\"\n",
    "<style>\n",
    "/* Set font size for code cells */\n",
    ".CodeMirror pre {\n",
    "    font-size: 22px;\n",
    "}\n",
    "\n",
    "/* Set font size for Markdown cells */\n",
    ".rendered_html {\n",
    "    font-size: 22px;\n",
    "}\n",
    "\n",
    "/* Set font size for raw cells */\n",
    ".text_cell_render {\n",
    "    font-size: 22px;\n",
    "}\n",
    "</style>\n",
    "\"\"\"\n",
    "\n",
    "display(HTML(custom_css))\n"
   ]
  },
  {
   "cell_type": "markdown",
   "id": "b3755fc2-1630-4363-8684-e8cdb4233720",
   "metadata": {},
   "source": [
    "ΠΕΡΙΕΧΟΜΕΝΑ:\n",
    "1. Λεξικά\n",
    "1. Βασική Λειτουργικότητα Λεξικών\n",
    "2. ‘Ελεγχος και μέθοδοι διαπέρασης\n",
    "3. Περιγραφικά Λεξικά κ.α.\n",
    "2. Debugging Μέρος 1: Εκτυπώνοντας…\n",
    "3. Project: Πέτρα – Ψαλίδι - Χαρτί"
   ]
  },
  {
   "cell_type": "code",
   "execution_count": 1,
   "id": "cce89c3b-1080-41cb-a0c3-3b8bc944c806",
   "metadata": {},
   "outputs": [
    {
     "name": "stdout",
     "output_type": "stream",
     "text": [
      "Round 1\n"
     ]
    },
    {
     "name": "stdin",
     "output_type": "stream",
     "text": [
      "Choose (rock, scissors, paper):  1\n"
     ]
    },
    {
     "name": "stdout",
     "output_type": "stream",
     "text": [
      "Wrong input. Choices: rock, scissors, paper\n"
     ]
    },
    {
     "name": "stdin",
     "output_type": "stream",
     "text": [
      "Choose (rock, scissors, paper):  scissors\n"
     ]
    },
    {
     "name": "stdout",
     "output_type": "stream",
     "text": [
      "Computer picks: rock\n",
      "Player-Computer: 0-1\n",
      "====================\n",
      "\n",
      "Round 2\n"
     ]
    },
    {
     "name": "stdin",
     "output_type": "stream",
     "text": [
      "Choose (rock, scissors, paper):  scissors\n"
     ]
    },
    {
     "name": "stdout",
     "output_type": "stream",
     "text": [
      "Computer picks: rock\n",
      "Player-Computer: 0-2\n",
      "====================\n",
      "\n",
      "Round 3\n"
     ]
    },
    {
     "name": "stdin",
     "output_type": "stream",
     "text": [
      "Choose (rock, scissors, paper):  scissors\n"
     ]
    },
    {
     "name": "stdout",
     "output_type": "stream",
     "text": [
      "Computer picks: scissors\n",
      "Player-Computer: 0-2\n",
      "====================\n",
      "\n",
      "Round 4\n"
     ]
    },
    {
     "name": "stdin",
     "output_type": "stream",
     "text": [
      "Choose (rock, scissors, paper):  scissors\n"
     ]
    },
    {
     "name": "stdout",
     "output_type": "stream",
     "text": [
      "Computer picks: paper\n",
      "Player-Computer: 1-2\n",
      "====================\n",
      "\n",
      "Round 5\n"
     ]
    },
    {
     "name": "stdin",
     "output_type": "stream",
     "text": [
      "Choose (rock, scissors, paper):  scissors\n"
     ]
    },
    {
     "name": "stdout",
     "output_type": "stream",
     "text": [
      "Computer picks: paper\n",
      "Player-Computer: 2-2\n",
      "====================\n",
      "\n",
      "Round 6\n"
     ]
    },
    {
     "name": "stdin",
     "output_type": "stream",
     "text": [
      "Choose (rock, scissors, paper):  scissors\n"
     ]
    },
    {
     "name": "stdout",
     "output_type": "stream",
     "text": [
      "Computer picks: paper\n",
      "Player-Computer: 3-2\n",
      "Player wins! \n",
      "\n",
      "Round 1: Player: scissors, Computer: rock, Score: 0-1\n",
      "Round 2: Player: scissors, Computer: rock, Score: 0-2\n",
      "Round 3: Player: scissors, Computer: scissors, Score: 0-2\n",
      "Round 4: Player: scissors, Computer: paper, Score: 1-2\n",
      "Round 5: Player: scissors, Computer: paper, Score: 2-2\n",
      "Round 6: Player: scissors, Computer: paper, Score: 3-2\n"
     ]
    }
   ],
   "source": [
    "#Συγκεντρωτική: Πέτρα - Ψαλίδι - Χαρτί\n",
    "\n",
    "from random import seed\n",
    "from random import randrange\n",
    "from datetime import datetime  # all 3 at the beginning\n",
    "\n",
    "# Seed with the current time as an integer (timestamp)\n",
    "seed(int(datetime.now().timestamp()))  # once, before randint call\n",
    "\n",
    "round = 0\n",
    "score = [0, 0]  # Player, computer\n",
    "history = []\n",
    "\n",
    "while True:\n",
    "    round += 1\n",
    "    print(\"Round \" + str(round))\n",
    "\n",
    "    # User input\n",
    "    player_input_str = input(\"Choose (rock, scissors, paper): \").lower()\n",
    "    while player_input_str not in [\"rock\", \"scissors\", \"paper\"]:\n",
    "        print(\"Wrong input. Choices: rock, scissors, paper\")\n",
    "        player_input_str = input(\"Choose (rock, scissors, paper): \").lower()\n",
    "\n",
    "    if player_input_str == \"rock\":\n",
    "        player_input_int = 0\n",
    "    elif player_input_str == \"scissors\":\n",
    "        player_input_int = 1\n",
    "    else:\n",
    "        player_input_int = 2\n",
    "\n",
    "    # Computer choice\n",
    "    computer_choice_int = randrange(3)\n",
    "    if computer_choice_int == 0:\n",
    "        computer_choice_str = \"rock\"\n",
    "    elif computer_choice_int == 1:\n",
    "        computer_choice_str = \"scissors\"\n",
    "    else:\n",
    "        computer_choice_str = \"paper\"\n",
    "\n",
    "    # Determine the winner\n",
    "    diff = player_input_int - computer_choice_int\n",
    "\n",
    "    if diff == -1 or diff == 2:\n",
    "        winner = \"player\"\n",
    "    elif diff == -2 or diff == 1:\n",
    "        winner = \"computer\"\n",
    "    else:\n",
    "        winner = \"no winner\"\n",
    "\n",
    "    # Update the score\n",
    "    if winner == \"player\":\n",
    "        score[0] += 1\n",
    "    elif winner == \"computer\":\n",
    "        score[1] += 1\n",
    "\n",
    "    # Update the history\n",
    "    history.append(f\"Round {round}: Player: {player_input_str}, Computer: {computer_choice_str}, Score: {score[0]}-{score[1]}\")\n",
    "\n",
    "    # Print the winner and the score\n",
    "    print(f\"Computer picks: {computer_choice_str}\")\n",
    "    print(f\"Player-Computer: {score[0]}-{score[1]}\")\n",
    "\n",
    "    if score[0] == 3:\n",
    "        print(\"Player wins! \")\n",
    "        print(\"\")\n",
    "        for history_item in history:\n",
    "            print(history_item)\n",
    "        break\n",
    "    elif score[1] == 3:\n",
    "        print(\"Computer wins! \")\n",
    "        print(\"\")\n",
    "        for history_item in history:\n",
    "            print(history_item)\n",
    "        break\n",
    "\n",
    "    print(\"====================\\n\")\n"
   ]
  },
  {
   "cell_type": "code",
   "execution_count": null,
   "id": "5d8ca71a-6fee-4947-8d0b-12b47a97ea1c",
   "metadata": {},
   "outputs": [],
   "source": [
    "\"\"\"\n",
    "Explanation:\n",
    "\n",
    "    Removed the unnecessary triple-quoted string comment at the end of the code, which was causing the SyntaxError.\n",
    "\n",
    "This should resolve the issue and allow your game to run correctly.\"\"\""
   ]
  }
 ],
 "metadata": {
  "kernelspec": {
   "display_name": "Python 3 (ipykernel)",
   "language": "python",
   "name": "python3"
  },
  "language_info": {
   "codemirror_mode": {
    "name": "ipython",
    "version": 3
   },
   "file_extension": ".py",
   "mimetype": "text/x-python",
   "name": "python",
   "nbconvert_exporter": "python",
   "pygments_lexer": "ipython3",
   "version": "3.11.7"
  }
 },
 "nbformat": 4,
 "nbformat_minor": 5
}
